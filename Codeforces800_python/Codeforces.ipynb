{
 "cells": [
  {
   "cell_type": "markdown",
   "metadata": {},
   "source": [
    "### 4A - Watermelon "
   ]
  },
  {
   "cell_type": "markdown",
   "metadata": {
    "scrolled": true
   },
   "source": [
    "weight = int(input());\n",
    "if weight % 2 == 0:\n",
    "    for w in range(2,int(weight/2)+2,2):\n",
    "        print('YES') if (weight - w) % 2 == 0 and (weight - w) != 0 else print('NO');\n",
    "        break;\n",
    "        \n",
    "else:\n",
    "    print('NO');"
   ]
  },
  {
   "cell_type": "code",
   "execution_count": null,
   "metadata": {},
   "outputs": [],
   "source": [
    "weight = int(input());\n",
    "print('YES') if weight % 2 == 0 and weight > 2 else print('NO');"
   ]
  },
  {
   "cell_type": "markdown",
   "metadata": {},
   "source": [
    "### 71A - Way Too Long Words "
   ]
  },
  {
   "cell_type": "code",
   "execution_count": null,
   "metadata": {},
   "outputs": [],
   "source": [
    "num = int(input());\n",
    "i = 1;\n",
    "while i<= num:\n",
    "    word = input()\n",
    "    if len(word)>10:\n",
    "        print(word[0],len(word)-2,word[-1],sep='');\n",
    "    else:\n",
    "        print(word);\n",
    "    i+=1;\n",
    "        "
   ]
  },
  {
   "cell_type": "markdown",
   "metadata": {},
   "source": [
    "### 231A - Team "
   ]
  },
  {
   "cell_type": "code",
   "execution_count": 44,
   "metadata": {},
   "outputs": [
    {
     "name": "stdout",
     "output_type": "stream",
     "text": [
      "2\n",
      "1 0 0\n",
      "1 1 0\n",
      "1\n"
     ]
    }
   ],
   "source": [
    "num = int(input());\n",
    "count = 0;\n",
    "for i in range(num):\n",
    "   prblm_slv=[int(x) for x in input().split()];\n",
    "   if prblm_slv.count(1)> 1:\n",
    "        count += 1;\n",
    "print(count);        \n",
    "    "
   ]
  },
  {
   "cell_type": "code",
   "execution_count": 2,
   "metadata": {},
   "outputs": [
    {
     "name": "stdout",
     "output_type": "stream",
     "text": [
      "1 1 1\n",
      "[1, 1, 1]\n"
     ]
    }
   ],
   "source": [
    "print(list(map(int,input().split())));"
   ]
  },
  {
   "cell_type": "markdown",
   "metadata": {},
   "source": [
    "### 158A.Next Round"
   ]
  },
  {
   "cell_type": "code",
   "execution_count": 17,
   "metadata": {},
   "outputs": [
    {
     "name": "stdout",
     "output_type": "stream",
     "text": [
      "4 2\n",
      "0 0 0 0\n",
      "0\n"
     ]
    }
   ],
   "source": [
    "n,k = input().split();\n",
    "contestant_time =list(map(int,input().split()));\n",
    "count = 0;\n",
    "for t in contestant_time:\n",
    "    if t >= contestant_time[int(k)-1] and t != 0 :\n",
    "        count += 1;\n",
    "print(count);        "
   ]
  },
  {
   "cell_type": "markdown",
   "metadata": {},
   "source": [
    "### 50A.Domino Piling"
   ]
  },
  {
   "cell_type": "code",
   "execution_count": 20,
   "metadata": {},
   "outputs": [
    {
     "name": "stdout",
     "output_type": "stream",
     "text": [
      "3 3\n",
      "4\n"
     ]
    }
   ],
   "source": [
    "m,n = input().split();\n",
    "print((int(m)*int(n)) // 2);"
   ]
  },
  {
   "cell_type": "markdown",
   "metadata": {},
   "source": [
    "### 282A. Bit++\n"
   ]
  },
  {
   "cell_type": "code",
   "execution_count": 23,
   "metadata": {},
   "outputs": [
    {
     "name": "stdout",
     "output_type": "stream",
     "text": [
      "2\n",
      "X++\n",
      "--X\n",
      "0\n"
     ]
    }
   ],
   "source": [
    "n = int(input());\n",
    "x =0;\n",
    "for i in range(n):\n",
    "    cmd = input();\n",
    "    if '+' in cmd:\n",
    "        x+=1;\n",
    "    else:\n",
    "        x-=1;\n",
    "print(x);    "
   ]
  },
  {
   "cell_type": "markdown",
   "metadata": {},
   "source": [
    "### 112A.Petya and Strings"
   ]
  },
  {
   "cell_type": "code",
   "execution_count": 26,
   "metadata": {},
   "outputs": [
    {
     "name": "stdout",
     "output_type": "stream",
     "text": [
      "abcdefg\n",
      "AbcDeFf\n",
      "1\n"
     ]
    }
   ],
   "source": [
    "s1 = input();\n",
    "s2 = input();\n",
    "if s1.casefold() == s2.casefold():\n",
    "    print(0);\n",
    "elif s1.casefold() < s2.casefold():\n",
    "    print(-1);\n",
    "elif s1.casefold() > s2.casefold():\n",
    "    print(1);"
   ]
  },
  {
   "cell_type": "markdown",
   "metadata": {},
   "source": [
    "### 263A-Beautiful Matrix"
   ]
  },
  {
   "cell_type": "code",
   "execution_count": 58,
   "metadata": {},
   "outputs": [
    {
     "name": "stdout",
     "output_type": "stream",
     "text": [
      "0 0 0 0 0\n",
      "0 0 0 0 0\n",
      "0 1 0 0 0 \n",
      "0 0 0 0 0\n",
      "0 0 0 0 0\n",
      "1\n"
     ]
    }
   ],
   "source": [
    "matrix=[];\n",
    "for i in range(5):\n",
    "   matrix.append(list(map(int,input().split())))\n",
    "for i in range(5):\n",
    "    try:\n",
    "        col = matrix[i].index(1)\n",
    "        row = i;\n",
    "    except Exception as e:\n",
    "        pass;   \n",
    "print(abs(3-(row + 1)) + abs(3 -(col + 1)));   "
   ]
  },
  {
   "cell_type": "markdown",
   "metadata": {},
   "source": [
    "\n",
    "###  339A - Helpful Maths \n"
   ]
  },
  {
   "cell_type": "code",
   "execution_count": null,
   "metadata": {},
   "outputs": [],
   "source": [
    "addition_seq = input();\n",
    "num_seq = addition_seq[0::2];\n",
    "print('+'.join([num for num in sorted(list(num_seq))]))"
   ]
  },
  {
   "cell_type": "markdown",
   "metadata": {},
   "source": [
    "### 281A - Word Capitalization "
   ]
  },
  {
   "cell_type": "code",
   "execution_count": 23,
   "metadata": {},
   "outputs": [
    {
     "name": "stdout",
     "output_type": "stream",
     "text": [
      "ApPle\n",
      "ApPle\n"
     ]
    }
   ],
   "source": [
    "word = input();\n",
    "print(word[0].capitalize()+ word[1:]);\n"
   ]
  },
  {
   "cell_type": "markdown",
   "metadata": {},
   "source": [
    "### 266A - Stones on the Table "
   ]
  },
  {
   "cell_type": "code",
   "execution_count": 27,
   "metadata": {},
   "outputs": [
    {
     "name": "stdout",
     "output_type": "stream",
     "text": [
      "4\n",
      "BRBG\n",
      "0\n"
     ]
    }
   ],
   "source": [
    "num =int(input());\n",
    "word = input();\n",
    "count = 0;\n",
    "for i in range(len(word)-1):\n",
    "    if word[i] == word[i+1]:\n",
    "        count+=1;\n",
    "print(count);        "
   ]
  },
  {
   "cell_type": "markdown",
   "metadata": {},
   "source": [
    "###  \t236A - Boy or Girl "
   ]
  },
  {
   "cell_type": "code",
   "execution_count": 34,
   "metadata": {},
   "outputs": [
    {
     "name": "stdout",
     "output_type": "stream",
     "text": [
      "sevenkplus\n",
      "CHAT WITH HER!\n"
     ]
    }
   ],
   "source": [
    "word = input();\n",
    "len_word = len(set(word));\n",
    "print('CHAT WITH HER!') if len_word % 2 == 0 else print('IGNORE HIM!');"
   ]
  },
  {
   "cell_type": "markdown",
   "metadata": {},
   "source": [
    "### 546A - Soldier and Bananas "
   ]
  },
  {
   "cell_type": "code",
   "execution_count": 40,
   "metadata": {},
   "outputs": [
    {
     "name": "stdout",
     "output_type": "stream",
     "text": [
      "1 2 1\n",
      "0\n"
     ]
    }
   ],
   "source": [
    "banana_cost,dollar_he_has,num_banana = input().split();\n",
    "total_cost = 0;\n",
    "for i in range(1,int(num_banana)+1):\n",
    "    total_cost += (int(banana_cost)*i);\n",
    "\n",
    "print(abs(total_cost - int(dollar_he_has))) if total_cost > int(dollar_he_has) else print(0);    "
   ]
  },
  {
   "cell_type": "markdown",
   "metadata": {},
   "source": [
    "###  \t791A - Bear and Big Brother "
   ]
  },
  {
   "cell_type": "code",
   "execution_count": 4,
   "metadata": {},
   "outputs": [
    {
     "name": "stdout",
     "output_type": "stream",
     "text": [
      "1 1\n",
      "1\n"
     ]
    }
   ],
   "source": [
    "limak_weight,bob_weight = [int(x) for x in input().split()];\n",
    "i = 1;\n",
    "while i:\n",
    "    limak_weight *= 3;\n",
    "    bob_weight *= 2;\n",
    "    if limak_weight > bob_weight:\n",
    "        break;\n",
    "    i+=1;    \n",
    "print(i);        \n"
   ]
  },
  {
   "cell_type": "markdown",
   "metadata": {},
   "source": [
    "### 977A - Wrong Subtraction"
   ]
  },
  {
   "cell_type": "code",
   "execution_count": 21,
   "metadata": {},
   "outputs": [
    {
     "name": "stdout",
     "output_type": "stream",
     "text": [
      "1000000000 9\n",
      "1\n"
     ]
    }
   ],
   "source": [
    "num,num_subtract = [int(x) for x in input().split()];\n",
    "while num_subtract:\n",
    "    if num % 10 == 0:\n",
    "          num /= 10;\n",
    "    else:\n",
    "          num -= 1;\n",
    "   \n",
    "    num_subtract-=1;     \n",
    "print(int(num))    \n",
    "    \n",
    "      "
   ]
  },
  {
   "cell_type": "markdown",
   "metadata": {},
   "source": [
    "###  \t617A - Elephant"
   ]
  },
  {
   "cell_type": "code",
   "execution_count": 25,
   "metadata": {},
   "outputs": [
    {
     "name": "stdout",
     "output_type": "stream",
     "text": [
      "1000000\n",
      "200000\n"
     ]
    }
   ],
   "source": [
    "distance = int(input());\n",
    "print(distance//5) if distance % 5 == 0 else print((distance // 5) + 1);\n",
    "  \n",
    "    "
   ]
  },
  {
   "cell_type": "markdown",
   "metadata": {},
   "source": [
    "###  \t116A - Tram "
   ]
  },
  {
   "cell_type": "code",
   "execution_count": 5,
   "metadata": {},
   "outputs": [
    {
     "name": "stdout",
     "output_type": "stream",
     "text": [
      "10\n",
      "0 5\n",
      "1 7\n",
      "10 8\n",
      "5 3\n",
      "0 5\n",
      "3 3\n",
      "8 8\n",
      "0 6\n",
      "10 1\n",
      "9 0\n",
      "18\n"
     ]
    }
   ],
   "source": [
    "num_tram_stop = int(input());\n",
    "min_passengers = 0;\n",
    "min_passengers_list=[];\n",
    "while num_tram_stop:\n",
    "    x,y =[int(x) for x in input().split()];\n",
    "    min_passengers -= x;\n",
    "    min_passengers += y;\n",
    "    num_tram_stop -= 1;\n",
    "    min_passengers_list.append(min_passengers);\n",
    "print(max(min_passengers_list));    "
   ]
  },
  {
   "cell_type": "markdown",
   "metadata": {},
   "source": [
    "###  59A - Word \n"
   ]
  },
  {
   "cell_type": "code",
   "execution_count": 4,
   "metadata": {},
   "outputs": [
    {
     "name": "stdout",
     "output_type": "stream",
     "text": [
      "Hey\n",
      "Capital\n"
     ]
    }
   ],
   "source": [
    "word = input();\n",
    "if ord(word[0]) >= 65 and ord(word[0])<=90:\n",
    "    print('Capital');\n",
    "    "
   ]
  },
  {
   "cell_type": "code",
   "execution_count": 10,
   "metadata": {},
   "outputs": [
    {
     "name": "stdout",
     "output_type": "stream",
     "text": [
      "ViP\n",
      "VIP\n"
     ]
    }
   ],
   "source": [
    "alphabet = \"abcdefghijklmnopqrstuvwxyz\"\n",
    "word = input()\n",
    "if sum([c in alphabet for c in word]) >= (len(word)+1) // 2:\n",
    "    print(word.lower())\n",
    "else:\n",
    "    print(word.upper());"
   ]
  },
  {
   "cell_type": "markdown",
   "metadata": {},
   "source": [
    "###  \t266B - Queue at the School"
   ]
  },
  {
   "cell_type": "code",
   "execution_count": 52,
   "metadata": {},
   "outputs": [
    {
     "name": "stdout",
     "output_type": "stream",
     "text": [
      "5 2\n",
      "BGGBG\n",
      "GGBGB\n"
     ]
    }
   ],
   "source": [
    "num_student,time = input().split();\n",
    "word=list(input());\n",
    "\n",
    "for i in range(int(time)):\n",
    "    j =0;\n",
    "    while j < int(num_student)-1:\n",
    "        if word[j] == 'B' and word[j+1] == 'G':\n",
    "        \n",
    "            t = word[j];\n",
    "            word[j] = word[j+1];\n",
    "            word[j+1] = t;\n",
    "            j+=1;\n",
    "        j+=1;\n",
    " \n",
    "print(''.join(w for w in word));            "
   ]
  },
  {
   "cell_type": "markdown",
   "metadata": {},
   "source": [
    "### 266B - Queue at the School(process 2)"
   ]
  },
  {
   "cell_type": "code",
   "execution_count": 24,
   "metadata": {},
   "outputs": [
    {
     "name": "stdout",
     "output_type": "stream",
     "text": [
      "5 2\n",
      "BGGBG\n",
      "GGBGB\n"
     ]
    }
   ],
   "source": [
    "n,m = map(int,input().split());\n",
    "word = input();\n",
    "while m:\n",
    "    word = word.replace('BG','GB');\n",
    "    m-=1;\n",
    "print(word);    "
   ]
  },
  {
   "cell_type": "code",
   "execution_count": 23,
   "metadata": {},
   "outputs": [
    {
     "name": "stdout",
     "output_type": "stream",
     "text": [
      "FBCDBA\n"
     ]
    }
   ],
   "source": [
    "print('ABCDBA'.replace('A','F',1));"
   ]
  },
  {
   "cell_type": "markdown",
   "metadata": {},
   "source": [
    "###  110A - Nearly Lucky Number "
   ]
  },
  {
   "cell_type": "code",
   "execution_count": 15,
   "metadata": {},
   "outputs": [
    {
     "name": "stdout",
     "output_type": "stream",
     "text": [
      "4744000695826\n",
      "YES\n"
     ]
    }
   ],
   "source": [
    "number = input();\n",
    "print('YES') if (number.count('7') + number.count('4') == 7) or (number.count('7') + number.count('4') == 4) else print('NO');"
   ]
  },
  {
   "cell_type": "markdown",
   "metadata": {},
   "source": [
    "### 41A - Translation"
   ]
  },
  {
   "cell_type": "code",
   "execution_count": 20,
   "metadata": {},
   "outputs": [
    {
     "name": "stdout",
     "output_type": "stream",
     "text": [
      "code\n",
      "code\n",
      "NO\n"
     ]
    }
   ],
   "source": [
    "word= input();\n",
    "rev_word = input();\n",
    "print('YES') if word[::-1] == rev_word else print('NO');"
   ]
  },
  {
   "cell_type": "markdown",
   "metadata": {},
   "source": [
    "###  \t734A - Anton and Danik "
   ]
  },
  {
   "cell_type": "code",
   "execution_count": 27,
   "metadata": {},
   "outputs": [
    {
     "name": "stdout",
     "output_type": "stream",
     "text": [
      "4\n",
      "DADA\n",
      "Friendship\n"
     ]
    }
   ],
   "source": [
    "num_match = int(input());\n",
    "match_res = input();\n",
    "if match_res.count('A') > match_res.count('D'):\n",
    "    print('Anton');\n",
    "elif match_res.count('A') < match_res.count('D'):\n",
    "    print('Danik');\n",
    "else:\n",
    "    print('Friendship');"
   ]
  },
  {
   "cell_type": "markdown",
   "metadata": {},
   "source": [
    "### 271A - Beautiful Year"
   ]
  },
  {
   "cell_type": "code",
   "execution_count": 38,
   "metadata": {},
   "outputs": [
    {
     "name": "stdout",
     "output_type": "stream",
     "text": [
      "2013\n",
      "2014\n"
     ]
    }
   ],
   "source": [
    "year = int(input());\n",
    "while year:\n",
    "    year+=1;\n",
    "    length = len(set(map(int,str(year))));\n",
    "    if length == 4:\n",
    "        print(year);\n",
    "        break;\n",
    "    "
   ]
  },
  {
   "cell_type": "markdown",
   "metadata": {},
   "source": [
    "### 467A - George and Accommodation "
   ]
  },
  {
   "cell_type": "code",
   "execution_count": 43,
   "metadata": {},
   "outputs": [
    {
     "name": "stdout",
     "output_type": "stream",
     "text": [
      "3\n",
      "1 2\n",
      "2 3\n",
      "3 4\n",
      "0\n"
     ]
    }
   ],
   "source": [
    "num_rooms = int(input());\n",
    "count = 0;\n",
    "while num_rooms:\n",
    "    ppl_lives,max_place =map(int,input().split());\n",
    "    ppl_lives += 2;\n",
    "    if (ppl_lives) <= max_place:\n",
    "        count+=1;\n",
    "    num_rooms -= 1;\n",
    "print(count);    "
   ]
  },
  {
   "cell_type": "markdown",
   "metadata": {},
   "source": [
    "###  677A - Vanya and Fence "
   ]
  },
  {
   "cell_type": "code",
   "execution_count": 13,
   "metadata": {},
   "outputs": [
    {
     "name": "stdout",
     "output_type": "stream",
     "text": [
      "6 1\n",
      "1 1 1 1 1 1\n",
      "6\n",
      "6\n"
     ]
    }
   ],
   "source": [
    "n,h=map(int,input().split());\n",
    "count = 0;\n",
    "ppl_height=list(map(int,input().split()));\n",
    "for height in ppl_height:\n",
    "   if height <= h:\n",
    "       count += 1;\n",
    "   else:\n",
    "        count+=2;\n",
    "print(count);        \n",
    "\n",
    "print(sum([(height > h)+ 1 for height in ppl_height]));\n",
    "        \n",
    "    "
   ]
  },
  {
   "cell_type": "markdown",
   "metadata": {},
   "source": [
    "# "
   ]
  },
  {
   "cell_type": "markdown",
   "metadata": {},
   "source": [
    "### 677A Process 2\n"
   ]
  },
  {
   "cell_type": "code",
   "execution_count": null,
   "metadata": {},
   "outputs": [],
   "source": [
    "n,h=map(int,input().split());\n",
    "ppl_height=list(map(int,input().split()));\n",
    "print(sum([(height > h)+ 1 for height in ppl_height]));\n",
    "        "
   ]
  },
  {
   "cell_type": "markdown",
   "metadata": {},
   "source": [
    "###  136A - Presents "
   ]
  },
  {
   "cell_type": "code",
   "execution_count": 11,
   "metadata": {},
   "outputs": [
    {
     "name": "stdout",
     "output_type": "stream",
     "text": [
      "3\n",
      "1 3 2\n",
      "1 3 2 "
     ]
    }
   ],
   "source": [
    "n = int(input());\n",
    "received_gifts=list(map(int,input().split()));\n",
    "given_gifts_to ={};\n",
    "for k,value in enumerate(received_gifts):\n",
    "    given_gifts_to[value] = k+1;\n",
    "for key, value in sorted(given_gifts_to.items(), key=lambda x: x[0]): \n",
    "    print(value,end=' ');"
   ]
  },
  {
   "cell_type": "markdown",
   "metadata": {},
   "source": [
    "### 344A - Magnets "
   ]
  },
  {
   "cell_type": "code",
   "execution_count": 12,
   "metadata": {},
   "outputs": [
    {
     "name": "stdout",
     "output_type": "stream",
     "text": [
      "4\n",
      "01\n",
      "01\n",
      "10\n",
      "10\n",
      "['01', '01', '10', '10']\n",
      "2\n"
     ]
    }
   ],
   "source": [
    "string_list=list(input() for _ in range(int(input())));\n",
    "count = 0;\n",
    "magnet_pos='';\n",
    "for mg in string_list:\n",
    "    if magnet_pos != mg:\n",
    "        count+=1;\n",
    "        magnet_pos = mg;\n",
    "print(count);        "
   ]
  },
  {
   "cell_type": "markdown",
   "metadata": {},
   "source": [
    "### 1030A - In Search of an Easy Problem "
   ]
  },
  {
   "cell_type": "code",
   "execution_count": 14,
   "metadata": {},
   "outputs": [
    {
     "name": "stdout",
     "output_type": "stream",
     "text": [
      "3\n",
      "0 0 1\n",
      "hard\n"
     ]
    }
   ],
   "source": [
    "num_ppl = int(input());\n",
    "ppl_opinion=list(map(int,input().split()));\n",
    "print('easy') if sum(ppl_opinion) == 0 else print('hard');"
   ]
  },
  {
   "cell_type": "markdown",
   "metadata": {},
   "source": [
    "### 705A - Hulk "
   ]
  },
  {
   "cell_type": "code",
   "execution_count": 19,
   "metadata": {},
   "outputs": [
    {
     "name": "stdout",
     "output_type": "stream",
     "text": [
      "50\n",
      "I hate that I love that I hate that I love that I hate that I love that I hate that I love that I hate that I love that I hate that I love that I hate that I love that I hate that I love that I hate that I love that I hate that I love that I hate that I love that I hate that I love that I hate that I love that I hate that I love that I hate that I love that I hate that I love that I hate that I love that I hate that I love that I hate that I love that I hate that I love that I hate that I love that I hate that I love that I hate that I love that I hate that I love that I hate that I love it\n"
     ]
    }
   ],
   "source": [
    "n = int(input());\n",
    "for i in range(1,n+1):\n",
    "    if i % 2 == 0:\n",
    "        print('I love',end=' ');\n",
    "    elif i % 2 != 0:\n",
    "        print('I hate',end=' ');\n",
    "    if i == n:\n",
    "        print('it');\n",
    "    else:\n",
    "        print('that',end=' ');"
   ]
  },
  {
   "cell_type": "markdown",
   "metadata": {},
   "source": [
    "###  486A - Calculating Function "
   ]
  },
  {
   "cell_type": "code",
   "execution_count": 23,
   "metadata": {},
   "outputs": [
    {
     "name": "stdout",
     "output_type": "stream",
     "text": [
      "5\n",
      "-3\n"
     ]
    }
   ],
   "source": [
    "n=int(input());\n",
    "print(n//2) if n % 2 == 0 else print(f'-{(n//2) + 1}');"
   ]
  },
  {
   "cell_type": "markdown",
   "metadata": {},
   "source": [
    "###  61A - Ultra-Fast Mathematician "
   ]
  },
  {
   "cell_type": "code",
   "execution_count": 6,
   "metadata": {},
   "outputs": [
    {
     "name": "stdout",
     "output_type": "stream",
     "text": [
      "1010100\n",
      "0100101\n",
      "1110001\n"
     ]
    }
   ],
   "source": [
    "string1=input();\n",
    "string2 = input();\n",
    "rs ='';\n",
    "my_list = list(zip([s for s in string1],[r for r in string2]));\n",
    "for li in my_list:\n",
    "    if li[0] != li[1]:\n",
    "        rs+='1'\n",
    "    else:\n",
    "        rs+='0';\n",
    "print(rs);        \n"
   ]
  },
  {
   "cell_type": "code",
   "execution_count": null,
   "metadata": {},
   "outputs": [],
   "source": []
  }
 ],
 "metadata": {
  "kernelspec": {
   "display_name": "Python 3",
   "language": "python",
   "name": "python3"
  },
  "language_info": {
   "codemirror_mode": {
    "name": "ipython",
    "version": 3
   },
   "file_extension": ".py",
   "mimetype": "text/x-python",
   "name": "python",
   "nbconvert_exporter": "python",
   "pygments_lexer": "ipython3",
   "version": "3.8.5"
  }
 },
 "nbformat": 4,
 "nbformat_minor": 4
}
